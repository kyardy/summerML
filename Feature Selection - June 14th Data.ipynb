{
 "cells": [
  {
   "cell_type": "markdown",
   "metadata": {},
   "source": [
    "# Recursive Feature Elimination \n",
    "\n",
    "GPS Speed (Meters/second)\t\n",
    "Altitude\n",
    "Bearing\t\n",
    "0-30mph Time(s)\n",
    "Air Fuel Ratio(Measured)(:1)\t\n",
    "Average trip speed(whilst moving only)(mph)\t\n",
    "Average trip speed(whilst stopped or moving)(mph)\t\n",
    "Engine Load(%)\t\n",
    "Engine RPM(rpm)\t\n",
    "Fuel flow rate/hour(gal/hr)\t\n",
    "Fuel flow rate/minute(gal/min)\t\n",
    "GPS Bearing(Â°)\n",
    "Horsepower (At the wheels)(hp)\n",
    "Kilometers Per Litre(Instant)(kpl)\n",
    "Kilometers Per Litre(Long Term Average)(kpl)\t\n",
    "Litres Per 100 Kilometer(Instant)(l/100km)\t\n",
    "Litres Per 100 Kilometer(Long Term Average)(l/100km)\t\n",
    "Miles Per Gallon(Long Term Average)(mpg)\t\n",
    "Percentage of Idle driving(%)\t\n",
    "Relative Throttle Position(%)\t\n",
    "Speed (GPS)(mph)\t\n",
    "Speed (OBD)(mph)\t\n",
    "Throttle Position(Manifold)(%)\t\n",
    "Torque(Nm)\t\n",
    "Trip average KPL(kpl)\t\n",
    "Trip average Litres/100 KM(l/100km)\t\n",
    "Trip average MPG(mpg)\n",
    "foo\t\n",
    "foo\t\n",
    "foo\n"
   ]
  },
  {
   "cell_type": "code",
   "execution_count": 136,
   "metadata": {},
   "outputs": [
    {
     "name": "stdout",
     "output_type": "stream",
     "text": [
      "1.14.0\n",
      "Dataframe shape:  (1064, 30)\n",
      "    0           1    2  3            4  5  6            7    8  9  ...   20  \\\n",
      "0  0.0  120.064209  0.0  -            -  -  -            -  826  - ...  0.0   \n",
      "1  0.0  120.280945  0.0  -            -  -  -  30.58823586  831  - ...  0.0   \n",
      "2  0.0  120.355225  0.0  -            -  -  -  30.58823586  831  - ...  0.0   \n",
      "3  0.0  120.381714  0.0  -            -  -  -  30.58823586  831  - ...  0.0   \n",
      "4  0.0  120.403076  0.0  -  14.59681988  -  -  30.58823586  831  - ...  0.0   \n",
      "5  0.0  120.408814  0.0  -  14.59681988  -  -  30.58823586  831  - ...  0.0   \n",
      "6  0.0  120.409912  0.0  -  14.59681988  -  -  30.58823586  831  - ...  0.0   \n",
      "7  0.0  120.411438  0.0  -  14.59681988  -  -  30.58823586  831  - ...  0.0   \n",
      "8  0.0  120.409058  0.0  -  14.59681988  -  -  30.58823586  831  - ...  0.0   \n",
      "9  0.0  120.407715  0.0  -  14.59681988  -  -  30.58823586  831  - ...  0.0   \n",
      "\n",
      "    21        22 23 24 25 26 27 28 29  \n",
      "0  0.0  9.411765  -  -  -  -  1  1  1  \n",
      "1  0.0  9.411765  -  -  -  -  1  1  1  \n",
      "2  0.0  9.411765  -  -  -  -  1  1  1  \n",
      "3  0.0  9.411765  -  -  -  -  1  1  1  \n",
      "4  0.0  9.411765  -  -  -  -  1  1  1  \n",
      "5  0.0  9.411765  -  -  -  -  1  1  1  \n",
      "6  0.0  9.411765  -  -  -  -  1  1  1  \n",
      "7  0.0  9.411765  -  -  -  -  1  1  1  \n",
      "8  0.0  9.411765  -  -  -  -  1  1  1  \n",
      "9  0.0  9.411765  -  -  -  -  0  0  0  \n",
      "\n",
      "[10 rows x 30 columns]\n"
     ]
    }
   ],
   "source": [
    "# Feature Extraction with RFE\n",
    "import pandas as pd\n",
    "import numpy as np\n",
    "import matplotlib.pyplot as plt \n",
    "from pandas import read_csv\n",
    "from sklearn.feature_selection import RFE\n",
    "from sklearn.linear_model import LogisticRegression\n",
    "\n",
    "import numpy\n",
    "print(numpy.version.version)\n",
    "# load data\n",
    "dataframe = pd.read_csv('C:/Users/Public/Anaconda/newData/Normal_Thomas_edit.csv', header=None)\n",
    "\n",
    "#names = ['gpsspeed', 'altitude', 'bearing','0-30mph','AirFuel', 'Athrtl', 'accelD','accelE', 'avgmoving',\n",
    "#         'avgmovingstop', 'eload', 'eloadA', 'rpm', 'fuelrateH', \n",
    "#         'fuelrateM', 'hsp','kmInstant','kmlong', 'Rthrtl',\n",
    "#         'speed', 'thrtlM','torque','class','foo']\n",
    "\n",
    "print(\"Dataframe shape: \", dataframe.shape)\n",
    "\n",
    "\n",
    "print(dataframe.head(10))\n",
    "\n",
    "\n",
    "#df.replace ('-', 0, inplace=True) # replacing anything with a \"-\"\n",
    "#df = \"https://raw.githubusercontent.com/jbrownlee/Datasets/master/pima-indians-diabetes.data.csv\"\n",
    "#dataframe = read_csv(df, names=names)\n"
   ]
  },
  {
   "cell_type": "code",
   "execution_count": 152,
   "metadata": {},
   "outputs": [
    {
     "name": "stdout",
     "output_type": "stream",
     "text": [
      "(119, 30)\n"
     ]
    }
   ],
   "source": [
    "from sklearn.preprocessing import Imputer\n",
    "import numpy as np\n",
    "from pandas import read_csv\n",
    "\n",
    "\n",
    "#Removing all rows with NaN values - Works:)\n",
    "dataframe = dataframe.replace('-',numpy.NaN)\n",
    "dataframe.dropna(inplace=True)\n",
    "print(dataframe.shape)\n",
    "\n",
    "\n",
    "#Filling NaN with mean - Not workig posssibly\n",
    "        #dataframe = dataframe.replace('-',numpy.NaN)\n",
    "        #dataframe.fillna(dataframe.mean(),inplace=True)   #(fill missing values with mean column values, If used, removes all rows which have a NaN value)\n",
    "        #print(dataframe.shape)\n",
    "        #dataframe.head()\n",
    "\n",
    "#dataframe = dataframe.fillna((dataframe.shift() + dataframe.shift(-1))/2)  #Trying to replace NaN value with average of numbers around it\n",
    "#df.val = df.val.fillna((df.val.shift() + df.val.shift(-1))/2)\n",
    "\n"
   ]
  },
  {
   "cell_type": "code",
   "execution_count": 48,
   "metadata": {},
   "outputs": [],
   "source": [
    "#dataframe = dataframe.replace('âˆž',np.NaN)\n",
    "#dataframe.dropna(inplace=True)\n",
    "\n",
    "\n",
    "#from numpy import array\n",
    "#print(dataframe[29].to_csv(index=False))"
   ]
  },
  {
   "cell_type": "code",
   "execution_count": 52,
   "metadata": {},
   "outputs": [],
   "source": [
    "array = dataframe.values\n",
    "\n",
    "X = array[:,0:29]\n",
    "Y = array[:,29]\n",
    "\n",
    "#np.unique(Y)\n",
    "#dtype=\"|S6\"\n",
    "#X.shape\n",
    "#Y.shape"
   ]
  },
  {
   "cell_type": "code",
   "execution_count": 153,
   "metadata": {
    "scrolled": true
   },
   "outputs": [
    {
     "ename": "ValueError",
     "evalue": "Unknown label type: 'unknown'",
     "output_type": "error",
     "traceback": [
      "\u001b[1;31m---------------------------------------------------------------------------\u001b[0m",
      "\u001b[1;31mValueError\u001b[0m                                Traceback (most recent call last)",
      "\u001b[1;32m<ipython-input-153-201b1e2ba5fc>\u001b[0m in \u001b[0;36m<module>\u001b[1;34m()\u001b[0m\n\u001b[0;32m      4\u001b[0m \u001b[0mrfe\u001b[0m \u001b[1;33m=\u001b[0m \u001b[0mRFE\u001b[0m\u001b[1;33m(\u001b[0m\u001b[0mmodel\u001b[0m\u001b[1;33m,\u001b[0m \u001b[1;36m2\u001b[0m\u001b[1;33m)\u001b[0m\u001b[1;33m\u001b[0m\u001b[0m\n\u001b[0;32m      5\u001b[0m \u001b[1;33m\u001b[0m\u001b[0m\n\u001b[1;32m----> 6\u001b[1;33m \u001b[0mfit\u001b[0m \u001b[1;33m=\u001b[0m \u001b[0mrfe\u001b[0m\u001b[1;33m.\u001b[0m\u001b[0mfit\u001b[0m\u001b[1;33m(\u001b[0m\u001b[0mX\u001b[0m\u001b[1;33m,\u001b[0m \u001b[0mY\u001b[0m\u001b[1;33m)\u001b[0m\u001b[1;33m\u001b[0m\u001b[0m\n\u001b[0m\u001b[0;32m      7\u001b[0m \u001b[1;33m\u001b[0m\u001b[0m\n\u001b[0;32m      8\u001b[0m \u001b[0mprint\u001b[0m\u001b[1;33m(\u001b[0m\u001b[1;34m\"Num Features: \"\u001b[0m\u001b[1;33m,\u001b[0m\u001b[0mfit\u001b[0m\u001b[1;33m.\u001b[0m\u001b[0mn_features_\u001b[0m\u001b[1;33m)\u001b[0m\u001b[1;33m\u001b[0m\u001b[0m\n",
      "\u001b[1;32mC:\\Users\\Public\\Anaconda\\lib\\site-packages\\sklearn\\feature_selection\\rfe.py\u001b[0m in \u001b[0;36mfit\u001b[1;34m(self, X, y)\u001b[0m\n\u001b[0;32m    132\u001b[0m             \u001b[0mThe\u001b[0m \u001b[0mtarget\u001b[0m \u001b[0mvalues\u001b[0m\u001b[1;33m.\u001b[0m\u001b[1;33m\u001b[0m\u001b[0m\n\u001b[0;32m    133\u001b[0m         \"\"\"\n\u001b[1;32m--> 134\u001b[1;33m         \u001b[1;32mreturn\u001b[0m \u001b[0mself\u001b[0m\u001b[1;33m.\u001b[0m\u001b[0m_fit\u001b[0m\u001b[1;33m(\u001b[0m\u001b[0mX\u001b[0m\u001b[1;33m,\u001b[0m \u001b[0my\u001b[0m\u001b[1;33m)\u001b[0m\u001b[1;33m\u001b[0m\u001b[0m\n\u001b[0m\u001b[0;32m    135\u001b[0m \u001b[1;33m\u001b[0m\u001b[0m\n\u001b[0;32m    136\u001b[0m     \u001b[1;32mdef\u001b[0m \u001b[0m_fit\u001b[0m\u001b[1;33m(\u001b[0m\u001b[0mself\u001b[0m\u001b[1;33m,\u001b[0m \u001b[0mX\u001b[0m\u001b[1;33m,\u001b[0m \u001b[0my\u001b[0m\u001b[1;33m,\u001b[0m \u001b[0mstep_score\u001b[0m\u001b[1;33m=\u001b[0m\u001b[1;32mNone\u001b[0m\u001b[1;33m)\u001b[0m\u001b[1;33m:\u001b[0m\u001b[1;33m\u001b[0m\u001b[0m\n",
      "\u001b[1;32mC:\\Users\\Public\\Anaconda\\lib\\site-packages\\sklearn\\feature_selection\\rfe.py\u001b[0m in \u001b[0;36m_fit\u001b[1;34m(self, X, y, step_score)\u001b[0m\n\u001b[0;32m    171\u001b[0m                 \u001b[0mprint\u001b[0m\u001b[1;33m(\u001b[0m\u001b[1;34m\"Fitting estimator with %d features.\"\u001b[0m \u001b[1;33m%\u001b[0m \u001b[0mnp\u001b[0m\u001b[1;33m.\u001b[0m\u001b[0msum\u001b[0m\u001b[1;33m(\u001b[0m\u001b[0msupport_\u001b[0m\u001b[1;33m)\u001b[0m\u001b[1;33m)\u001b[0m\u001b[1;33m\u001b[0m\u001b[0m\n\u001b[0;32m    172\u001b[0m \u001b[1;33m\u001b[0m\u001b[0m\n\u001b[1;32m--> 173\u001b[1;33m             \u001b[0mestimator\u001b[0m\u001b[1;33m.\u001b[0m\u001b[0mfit\u001b[0m\u001b[1;33m(\u001b[0m\u001b[0mX\u001b[0m\u001b[1;33m[\u001b[0m\u001b[1;33m:\u001b[0m\u001b[1;33m,\u001b[0m \u001b[0mfeatures\u001b[0m\u001b[1;33m]\u001b[0m\u001b[1;33m,\u001b[0m \u001b[0my\u001b[0m\u001b[1;33m)\u001b[0m\u001b[1;33m\u001b[0m\u001b[0m\n\u001b[0m\u001b[0;32m    174\u001b[0m \u001b[1;33m\u001b[0m\u001b[0m\n\u001b[0;32m    175\u001b[0m             \u001b[1;31m# Get coefs\u001b[0m\u001b[1;33m\u001b[0m\u001b[1;33m\u001b[0m\u001b[0m\n",
      "\u001b[1;32mC:\\Users\\Public\\Anaconda\\lib\\site-packages\\sklearn\\linear_model\\logistic.py\u001b[0m in \u001b[0;36mfit\u001b[1;34m(self, X, y, sample_weight)\u001b[0m\n\u001b[0;32m   1215\u001b[0m         X, y = check_X_y(X, y, accept_sparse='csr', dtype=_dtype,\n\u001b[0;32m   1216\u001b[0m                          order=\"C\")\n\u001b[1;32m-> 1217\u001b[1;33m         \u001b[0mcheck_classification_targets\u001b[0m\u001b[1;33m(\u001b[0m\u001b[0my\u001b[0m\u001b[1;33m)\u001b[0m\u001b[1;33m\u001b[0m\u001b[0m\n\u001b[0m\u001b[0;32m   1218\u001b[0m         \u001b[0mself\u001b[0m\u001b[1;33m.\u001b[0m\u001b[0mclasses_\u001b[0m \u001b[1;33m=\u001b[0m \u001b[0mnp\u001b[0m\u001b[1;33m.\u001b[0m\u001b[0munique\u001b[0m\u001b[1;33m(\u001b[0m\u001b[0my\u001b[0m\u001b[1;33m)\u001b[0m\u001b[1;33m\u001b[0m\u001b[0m\n\u001b[0;32m   1219\u001b[0m         \u001b[0mn_samples\u001b[0m\u001b[1;33m,\u001b[0m \u001b[0mn_features\u001b[0m \u001b[1;33m=\u001b[0m \u001b[0mX\u001b[0m\u001b[1;33m.\u001b[0m\u001b[0mshape\u001b[0m\u001b[1;33m\u001b[0m\u001b[0m\n",
      "\u001b[1;32mC:\\Users\\Public\\Anaconda\\lib\\site-packages\\sklearn\\utils\\multiclass.py\u001b[0m in \u001b[0;36mcheck_classification_targets\u001b[1;34m(y)\u001b[0m\n\u001b[0;32m    170\u001b[0m     if y_type not in ['binary', 'multiclass', 'multiclass-multioutput',\n\u001b[0;32m    171\u001b[0m                       'multilabel-indicator', 'multilabel-sequences']:\n\u001b[1;32m--> 172\u001b[1;33m         \u001b[1;32mraise\u001b[0m \u001b[0mValueError\u001b[0m\u001b[1;33m(\u001b[0m\u001b[1;34m\"Unknown label type: %r\"\u001b[0m \u001b[1;33m%\u001b[0m \u001b[0my_type\u001b[0m\u001b[1;33m)\u001b[0m\u001b[1;33m\u001b[0m\u001b[0m\n\u001b[0m\u001b[0;32m    173\u001b[0m \u001b[1;33m\u001b[0m\u001b[0m\n\u001b[0;32m    174\u001b[0m \u001b[1;33m\u001b[0m\u001b[0m\n",
      "\u001b[1;31mValueError\u001b[0m: Unknown label type: 'unknown'"
     ]
    }
   ],
   "source": [
    "\n",
    "# feature extraction\n",
    "model = LogisticRegression()\n",
    "rfe = RFE(model, 2)\n",
    "\n",
    "fit = rfe.fit(X, Y)\n",
    "\n",
    "print(\"Num Features: \",fit.n_features_)\n",
    "print(\"Selected Features: \",fit.support_)\n",
    "print(\"Feature Ranking: \",fit.ranking_) \n"
   ]
  }
 ],
 "metadata": {
  "kernelspec": {
   "display_name": "Python 3",
   "language": "python",
   "name": "python3"
  },
  "language_info": {
   "codemirror_mode": {
    "name": "ipython",
    "version": 3
   },
   "file_extension": ".py",
   "mimetype": "text/x-python",
   "name": "python",
   "nbconvert_exporter": "python",
   "pygments_lexer": "ipython3",
   "version": "3.6.4"
  }
 },
 "nbformat": 4,
 "nbformat_minor": 2
}
